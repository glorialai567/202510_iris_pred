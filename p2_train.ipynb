{
 "cells": [
  {
   "cell_type": "code",
   "execution_count": 1,
   "id": "dab674ef",
   "metadata": {},
   "outputs": [],
   "source": [
    "import numpy as np\n",
    "import pandas as pd\n",
    "from sklearn import datasets\n",
    "from sklearn.model_selection import train_test_split"
   ]
  },
  {
   "cell_type": "code",
   "execution_count": 2,
   "id": "ff3f4e7d",
   "metadata": {},
   "outputs": [
    {
     "data": {
      "text/plain": [
       "array(['setosa', 'versicolor', 'virginica'], dtype='<U10')"
      ]
     },
     "execution_count": 2,
     "metadata": {},
     "output_type": "execute_result"
    }
   ],
   "source": [
    "iris=datasets.load_iris()\n",
    "X=pd.DataFrame(iris.data)\n",
    "y=iris.target\n",
    "y_name= iris.target_names\n",
    "y_name"
   ]
  },
  {
   "cell_type": "code",
   "execution_count": 3,
   "id": "337b6f43",
   "metadata": {},
   "outputs": [],
   "source": [
    "X_train, X_test, y_train, y_test = train_test_split(X,y,test_size=0.2,random_state=42,stratify=y)"
   ]
  },
  {
   "cell_type": "code",
   "execution_count": 4,
   "id": "d851acde",
   "metadata": {},
   "outputs": [
    {
     "data": {
      "text/plain": [
       "0.9666666666666667"
      ]
     },
     "execution_count": 4,
     "metadata": {},
     "output_type": "execute_result"
    }
   ],
   "source": [
    "from sklearn.svm import SVC\n",
    "from sklearn.metrics import accuracy_score\n",
    "\n",
    "clf01=SVC(random_state=42)\n",
    "clf01.fit(X_train,y_train)\n",
    "acc01=accuracy_score(y_test,clf01.predict(X_test))\n",
    "acc01"
   ]
  },
  {
   "cell_type": "code",
   "execution_count": 5,
   "id": "e20de86a",
   "metadata": {},
   "outputs": [
    {
     "data": {
      "text/plain": [
       "['svm.joblib']"
      ]
     },
     "execution_count": 5,
     "metadata": {},
     "output_type": "execute_result"
    }
   ],
   "source": [
    "import joblib\n",
    "joblib.dump(clf01,\"svm.joblib\")"
   ]
  },
  {
   "cell_type": "code",
   "execution_count": 7,
   "id": "72ca8b83",
   "metadata": {},
   "outputs": [
    {
     "data": {
      "text/plain": [
       "0.9333333333333333"
      ]
     },
     "execution_count": 7,
     "metadata": {},
     "output_type": "execute_result"
    }
   ],
   "source": [
    "from sklearn.ensemble import RandomForestClassifier\n",
    "clf02= RandomForestClassifier(n_estimators=500,random_state=42)\n",
    "clf02.fit(X_train,y_train)\n",
    "acc02=accuracy_score(y_test,clf02.predict(X_test))\n",
    "acc02\n"
   ]
  },
  {
   "cell_type": "code",
   "execution_count": 8,
   "id": "2428fd58",
   "metadata": {},
   "outputs": [
    {
     "data": {
      "text/plain": [
       "['RF.joblib']"
      ]
     },
     "execution_count": 8,
     "metadata": {},
     "output_type": "execute_result"
    }
   ],
   "source": [
    "joblib.dump(clf02,\"RF.joblib\")"
   ]
  },
  {
   "cell_type": "code",
   "execution_count": 10,
   "id": "4d4b9d1d",
   "metadata": {},
   "outputs": [
    {
     "data": {
      "text/plain": [
       "['LR.joblib']"
      ]
     },
     "execution_count": 10,
     "metadata": {},
     "output_type": "execute_result"
    }
   ],
   "source": [
    "joblib.dump(clf03,\"LR.joblib\")"
   ]
  },
  {
   "cell_type": "code",
   "execution_count": 12,
   "id": "d4a870cf",
   "metadata": {},
   "outputs": [
    {
     "data": {
      "text/plain": [
       "0.9666666666666667"
      ]
     },
     "execution_count": 12,
     "metadata": {},
     "output_type": "execute_result"
    }
   ],
   "source": [
    "from sklearn.linear_model import LogisticRegression\n",
    "clf03= LogisticRegression(random_state=42)\n",
    "clf03.fit(X_train,y_train)\n",
    "acc03=accuracy_score(y_test,clf03.predict(X_test))\n",
    "acc03"
   ]
  },
  {
   "cell_type": "code",
   "execution_count": 13,
   "id": "352b7087",
   "metadata": {},
   "outputs": [
    {
     "data": {
      "text/plain": [
       "['LR.joblib']"
      ]
     },
     "execution_count": 13,
     "metadata": {},
     "output_type": "execute_result"
    }
   ],
   "source": [
    "joblib.dump(clf03,\"LR.joblib\")"
   ]
  },
  {
   "cell_type": "code",
   "execution_count": 14,
   "id": "14a7cdf4",
   "metadata": {},
   "outputs": [
    {
     "data": {
      "text/plain": [
       "1.0"
      ]
     },
     "execution_count": 14,
     "metadata": {},
     "output_type": "execute_result"
    }
   ],
   "source": [
    "from sklearn.neighbors import KNeighborsClassifier\n",
    "clf04= KNeighborsClassifier()\n",
    "clf04.fit(X_train,y_train)\n",
    "acc04=accuracy_score(y_test,clf04.predict(X_test))\n",
    "acc04"
   ]
  },
  {
   "cell_type": "code",
   "execution_count": 15,
   "id": "657625e7",
   "metadata": {},
   "outputs": [
    {
     "data": {
      "text/plain": [
       "['knn.joblib']"
      ]
     },
     "execution_count": 15,
     "metadata": {},
     "output_type": "execute_result"
    }
   ],
   "source": [
    "joblib.dump(clf04,\"knn.joblib\")"
   ]
  }
 ],
 "metadata": {
  "kernelspec": {
   "display_name": "Python 3",
   "language": "python",
   "name": "python3"
  },
  "language_info": {
   "codemirror_mode": {
    "name": "ipython",
    "version": 3
   },
   "file_extension": ".py",
   "mimetype": "text/x-python",
   "name": "python",
   "nbconvert_exporter": "python",
   "pygments_lexer": "ipython3",
   "version": "3.12.10"
  }
 },
 "nbformat": 4,
 "nbformat_minor": 5
}
